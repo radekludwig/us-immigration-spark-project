{
 "cells": [
  {
   "cell_type": "markdown",
   "metadata": {},
   "source": [
    "# Immigration airport datalake\n",
    "### Data Engineering Capstone Project\n",
    "\n",
    "#### Project Summary\n",
    "This project will build a data lake combining immigration and demographic data in the US.\n",
    "\n",
    "The project follows the follow steps:\n",
    "* Step 1: Scope the Project and Gather Data\n",
    "* Step 2: Explore and Assess the Data\n",
    "* Step 3: Define the Data Model\n",
    "* Step 4: Run ETL to Model the Data\n",
    "* Step 5: Complete Project Write Up"
   ]
  },
  {
   "cell_type": "code",
   "execution_count": 1,
   "metadata": {},
   "outputs": [],
   "source": [
    "# Do all imports and installs here\n",
    "import configparser\n",
    "import os\n",
    "import pandas as pd\n",
    "from datetime import datetime, timedelta\n",
    "from pyspark.sql.types import DateType, StructType, StructField, StringType, DoubleType, IntegerType\n",
    "from pyspark.sql.functions import udf, col, regexp_replace, split, trim, upper"
   ]
  },
  {
   "cell_type": "markdown",
   "metadata": {},
   "source": [
    "### Step 1: Scope the Project and Gather Data\n",
    "\n",
    "#### Scope \n",
    "The goal of this project is to prepare an immigration S3 datalake to be used with olap queries and BI apps. The final data should allow users to analize immigraton numbers with the added context of US cities demographic data. \n",
    "\n",
    "A couple example queries include:\n",
    "1. Which city had the most visits last month?\n",
    "2. Which city had the highest share of immigrant visits compared to total city population?\n",
    "3. What are the top 3 nationalities of immigrants comming to New York last year?\n",
    "\n",
    "#### Describe and Gather Data \n",
    "The project will use I94 immigration and US cities demographic data."
   ]
  },
  {
   "cell_type": "markdown",
   "metadata": {},
   "source": [
    "### Step 2: Explore and Assess the Data"
   ]
  },
  {
   "cell_type": "markdown",
   "metadata": {},
   "source": [
    "#### 1. Immigration data"
   ]
  },
  {
   "cell_type": "code",
   "execution_count": 19,
   "metadata": {},
   "outputs": [
    {
     "data": {
      "text/html": [
       "<div>\n",
       "<style scoped>\n",
       "    .dataframe tbody tr th:only-of-type {\n",
       "        vertical-align: middle;\n",
       "    }\n",
       "\n",
       "    .dataframe tbody tr th {\n",
       "        vertical-align: top;\n",
       "    }\n",
       "\n",
       "    .dataframe thead th {\n",
       "        text-align: right;\n",
       "    }\n",
       "</style>\n",
       "<table border=\"1\" class=\"dataframe\">\n",
       "  <thead>\n",
       "    <tr style=\"text-align: right;\">\n",
       "      <th></th>\n",
       "      <th>0</th>\n",
       "      <th>1</th>\n",
       "      <th>2</th>\n",
       "      <th>3</th>\n",
       "      <th>4</th>\n",
       "    </tr>\n",
       "  </thead>\n",
       "  <tbody>\n",
       "    <tr>\n",
       "      <th>Unnamed: 0</th>\n",
       "      <td>2027561</td>\n",
       "      <td>2171295</td>\n",
       "      <td>589494</td>\n",
       "      <td>2631158</td>\n",
       "      <td>3032257</td>\n",
       "    </tr>\n",
       "    <tr>\n",
       "      <th>cicid</th>\n",
       "      <td>4.08432e+06</td>\n",
       "      <td>4.42264e+06</td>\n",
       "      <td>1.1956e+06</td>\n",
       "      <td>5.29177e+06</td>\n",
       "      <td>985523</td>\n",
       "    </tr>\n",
       "    <tr>\n",
       "      <th>i94yr</th>\n",
       "      <td>2016</td>\n",
       "      <td>2016</td>\n",
       "      <td>2016</td>\n",
       "      <td>2016</td>\n",
       "      <td>2016</td>\n",
       "    </tr>\n",
       "    <tr>\n",
       "      <th>i94mon</th>\n",
       "      <td>4</td>\n",
       "      <td>4</td>\n",
       "      <td>4</td>\n",
       "      <td>4</td>\n",
       "      <td>4</td>\n",
       "    </tr>\n",
       "    <tr>\n",
       "      <th>i94cit</th>\n",
       "      <td>209</td>\n",
       "      <td>582</td>\n",
       "      <td>148</td>\n",
       "      <td>297</td>\n",
       "      <td>111</td>\n",
       "    </tr>\n",
       "    <tr>\n",
       "      <th>i94res</th>\n",
       "      <td>209</td>\n",
       "      <td>582</td>\n",
       "      <td>112</td>\n",
       "      <td>297</td>\n",
       "      <td>111</td>\n",
       "    </tr>\n",
       "    <tr>\n",
       "      <th>i94port</th>\n",
       "      <td>HHW</td>\n",
       "      <td>MCA</td>\n",
       "      <td>OGG</td>\n",
       "      <td>LOS</td>\n",
       "      <td>CHM</td>\n",
       "    </tr>\n",
       "    <tr>\n",
       "      <th>arrdate</th>\n",
       "      <td>20566</td>\n",
       "      <td>20567</td>\n",
       "      <td>20551</td>\n",
       "      <td>20572</td>\n",
       "      <td>20550</td>\n",
       "    </tr>\n",
       "    <tr>\n",
       "      <th>i94mode</th>\n",
       "      <td>1</td>\n",
       "      <td>1</td>\n",
       "      <td>1</td>\n",
       "      <td>1</td>\n",
       "      <td>3</td>\n",
       "    </tr>\n",
       "    <tr>\n",
       "      <th>i94addr</th>\n",
       "      <td>HI</td>\n",
       "      <td>TX</td>\n",
       "      <td>FL</td>\n",
       "      <td>CA</td>\n",
       "      <td>NY</td>\n",
       "    </tr>\n",
       "    <tr>\n",
       "      <th>depdate</th>\n",
       "      <td>20573</td>\n",
       "      <td>20568</td>\n",
       "      <td>20571</td>\n",
       "      <td>20581</td>\n",
       "      <td>20553</td>\n",
       "    </tr>\n",
       "    <tr>\n",
       "      <th>i94bir</th>\n",
       "      <td>61</td>\n",
       "      <td>26</td>\n",
       "      <td>76</td>\n",
       "      <td>25</td>\n",
       "      <td>19</td>\n",
       "    </tr>\n",
       "    <tr>\n",
       "      <th>i94visa</th>\n",
       "      <td>2</td>\n",
       "      <td>2</td>\n",
       "      <td>2</td>\n",
       "      <td>2</td>\n",
       "      <td>2</td>\n",
       "    </tr>\n",
       "    <tr>\n",
       "      <th>count</th>\n",
       "      <td>1</td>\n",
       "      <td>1</td>\n",
       "      <td>1</td>\n",
       "      <td>1</td>\n",
       "      <td>1</td>\n",
       "    </tr>\n",
       "    <tr>\n",
       "      <th>dtadfile</th>\n",
       "      <td>20160422</td>\n",
       "      <td>20160423</td>\n",
       "      <td>20160407</td>\n",
       "      <td>20160428</td>\n",
       "      <td>20160406</td>\n",
       "    </tr>\n",
       "    <tr>\n",
       "      <th>visapost</th>\n",
       "      <td>NaN</td>\n",
       "      <td>MTR</td>\n",
       "      <td>NaN</td>\n",
       "      <td>DOH</td>\n",
       "      <td>NaN</td>\n",
       "    </tr>\n",
       "    <tr>\n",
       "      <th>occup</th>\n",
       "      <td>NaN</td>\n",
       "      <td>NaN</td>\n",
       "      <td>NaN</td>\n",
       "      <td>NaN</td>\n",
       "      <td>NaN</td>\n",
       "    </tr>\n",
       "    <tr>\n",
       "      <th>entdepa</th>\n",
       "      <td>G</td>\n",
       "      <td>G</td>\n",
       "      <td>G</td>\n",
       "      <td>G</td>\n",
       "      <td>Z</td>\n",
       "    </tr>\n",
       "    <tr>\n",
       "      <th>entdepd</th>\n",
       "      <td>O</td>\n",
       "      <td>R</td>\n",
       "      <td>O</td>\n",
       "      <td>O</td>\n",
       "      <td>K</td>\n",
       "    </tr>\n",
       "    <tr>\n",
       "      <th>entdepu</th>\n",
       "      <td>NaN</td>\n",
       "      <td>NaN</td>\n",
       "      <td>NaN</td>\n",
       "      <td>NaN</td>\n",
       "      <td>NaN</td>\n",
       "    </tr>\n",
       "    <tr>\n",
       "      <th>matflag</th>\n",
       "      <td>M</td>\n",
       "      <td>M</td>\n",
       "      <td>M</td>\n",
       "      <td>M</td>\n",
       "      <td>M</td>\n",
       "    </tr>\n",
       "    <tr>\n",
       "      <th>biryear</th>\n",
       "      <td>1955</td>\n",
       "      <td>1990</td>\n",
       "      <td>1940</td>\n",
       "      <td>1991</td>\n",
       "      <td>1997</td>\n",
       "    </tr>\n",
       "    <tr>\n",
       "      <th>dtaddto</th>\n",
       "      <td>07202016</td>\n",
       "      <td>10222016</td>\n",
       "      <td>07052016</td>\n",
       "      <td>10272016</td>\n",
       "      <td>07042016</td>\n",
       "    </tr>\n",
       "    <tr>\n",
       "      <th>gender</th>\n",
       "      <td>F</td>\n",
       "      <td>M</td>\n",
       "      <td>M</td>\n",
       "      <td>M</td>\n",
       "      <td>F</td>\n",
       "    </tr>\n",
       "    <tr>\n",
       "      <th>insnum</th>\n",
       "      <td>NaN</td>\n",
       "      <td>NaN</td>\n",
       "      <td>NaN</td>\n",
       "      <td>NaN</td>\n",
       "      <td>NaN</td>\n",
       "    </tr>\n",
       "    <tr>\n",
       "      <th>airline</th>\n",
       "      <td>JL</td>\n",
       "      <td>*GA</td>\n",
       "      <td>LH</td>\n",
       "      <td>QR</td>\n",
       "      <td>NaN</td>\n",
       "    </tr>\n",
       "    <tr>\n",
       "      <th>admnum</th>\n",
       "      <td>5.65827e+10</td>\n",
       "      <td>9.4362e+10</td>\n",
       "      <td>5.57805e+10</td>\n",
       "      <td>9.47897e+10</td>\n",
       "      <td>4.23226e+10</td>\n",
       "    </tr>\n",
       "    <tr>\n",
       "      <th>fltno</th>\n",
       "      <td>00782</td>\n",
       "      <td>XBLNG</td>\n",
       "      <td>00464</td>\n",
       "      <td>00739</td>\n",
       "      <td>LAND</td>\n",
       "    </tr>\n",
       "    <tr>\n",
       "      <th>visatype</th>\n",
       "      <td>WT</td>\n",
       "      <td>B2</td>\n",
       "      <td>WT</td>\n",
       "      <td>B2</td>\n",
       "      <td>WT</td>\n",
       "    </tr>\n",
       "  </tbody>\n",
       "</table>\n",
       "</div>"
      ],
      "text/plain": [
       "                      0            1            2            3            4\n",
       "Unnamed: 0      2027561      2171295       589494      2631158      3032257\n",
       "cicid       4.08432e+06  4.42264e+06   1.1956e+06  5.29177e+06       985523\n",
       "i94yr              2016         2016         2016         2016         2016\n",
       "i94mon                4            4            4            4            4\n",
       "i94cit              209          582          148          297          111\n",
       "i94res              209          582          112          297          111\n",
       "i94port             HHW          MCA          OGG          LOS          CHM\n",
       "arrdate           20566        20567        20551        20572        20550\n",
       "i94mode               1            1            1            1            3\n",
       "i94addr              HI           TX           FL           CA           NY\n",
       "depdate           20573        20568        20571        20581        20553\n",
       "i94bir               61           26           76           25           19\n",
       "i94visa               2            2            2            2            2\n",
       "count                 1            1            1            1            1\n",
       "dtadfile       20160422     20160423     20160407     20160428     20160406\n",
       "visapost            NaN          MTR          NaN          DOH          NaN\n",
       "occup               NaN          NaN          NaN          NaN          NaN\n",
       "entdepa               G            G            G            G            Z\n",
       "entdepd               O            R            O            O            K\n",
       "entdepu             NaN          NaN          NaN          NaN          NaN\n",
       "matflag               M            M            M            M            M\n",
       "biryear            1955         1990         1940         1991         1997\n",
       "dtaddto        07202016     10222016     07052016     10272016     07042016\n",
       "gender                F            M            M            M            F\n",
       "insnum              NaN          NaN          NaN          NaN          NaN\n",
       "airline              JL          *GA           LH           QR          NaN\n",
       "admnum      5.65827e+10   9.4362e+10  5.57805e+10  9.47897e+10  4.23226e+10\n",
       "fltno             00782        XBLNG        00464        00739         LAND\n",
       "visatype             WT           B2           WT           B2           WT"
      ]
     },
     "execution_count": 19,
     "metadata": {},
     "output_type": "execute_result"
    }
   ],
   "source": [
    "immigration_df = pd.read_csv('immigration_data_sample.csv')\n",
    "immigration_df.head(5).T"
   ]
  },
  {
   "cell_type": "markdown",
   "metadata": {},
   "source": [
    "#### 2. City demographics data"
   ]
  },
  {
   "cell_type": "code",
   "execution_count": 20,
   "metadata": {
    "scrolled": true
   },
   "outputs": [
    {
     "data": {
      "text/html": [
       "<div>\n",
       "<style scoped>\n",
       "    .dataframe tbody tr th:only-of-type {\n",
       "        vertical-align: middle;\n",
       "    }\n",
       "\n",
       "    .dataframe tbody tr th {\n",
       "        vertical-align: top;\n",
       "    }\n",
       "\n",
       "    .dataframe thead th {\n",
       "        text-align: right;\n",
       "    }\n",
       "</style>\n",
       "<table border=\"1\" class=\"dataframe\">\n",
       "  <thead>\n",
       "    <tr style=\"text-align: right;\">\n",
       "      <th></th>\n",
       "      <th>city</th>\n",
       "      <th>state</th>\n",
       "      <th>median_age</th>\n",
       "      <th>male_population</th>\n",
       "      <th>female_population</th>\n",
       "      <th>total_population</th>\n",
       "      <th>number_of_veterans</th>\n",
       "      <th>foreign-born</th>\n",
       "      <th>average_houshold_size</th>\n",
       "      <th>state_code</th>\n",
       "      <th>race</th>\n",
       "      <th>count</th>\n",
       "    </tr>\n",
       "  </thead>\n",
       "  <tbody>\n",
       "    <tr>\n",
       "      <th>0</th>\n",
       "      <td>Silver Spring</td>\n",
       "      <td>Maryland</td>\n",
       "      <td>33.8</td>\n",
       "      <td>40601.0</td>\n",
       "      <td>41862.0</td>\n",
       "      <td>82463</td>\n",
       "      <td>1562.0</td>\n",
       "      <td>30908.0</td>\n",
       "      <td>2.60</td>\n",
       "      <td>MD</td>\n",
       "      <td>Hispanic or Latino</td>\n",
       "      <td>25924</td>\n",
       "    </tr>\n",
       "    <tr>\n",
       "      <th>1</th>\n",
       "      <td>Quincy</td>\n",
       "      <td>Massachusetts</td>\n",
       "      <td>41.0</td>\n",
       "      <td>44129.0</td>\n",
       "      <td>49500.0</td>\n",
       "      <td>93629</td>\n",
       "      <td>4147.0</td>\n",
       "      <td>32935.0</td>\n",
       "      <td>2.39</td>\n",
       "      <td>MA</td>\n",
       "      <td>White</td>\n",
       "      <td>58723</td>\n",
       "    </tr>\n",
       "    <tr>\n",
       "      <th>2</th>\n",
       "      <td>Hoover</td>\n",
       "      <td>Alabama</td>\n",
       "      <td>38.5</td>\n",
       "      <td>38040.0</td>\n",
       "      <td>46799.0</td>\n",
       "      <td>84839</td>\n",
       "      <td>4819.0</td>\n",
       "      <td>8229.0</td>\n",
       "      <td>2.58</td>\n",
       "      <td>AL</td>\n",
       "      <td>Asian</td>\n",
       "      <td>4759</td>\n",
       "    </tr>\n",
       "    <tr>\n",
       "      <th>3</th>\n",
       "      <td>Rancho Cucamonga</td>\n",
       "      <td>California</td>\n",
       "      <td>34.5</td>\n",
       "      <td>88127.0</td>\n",
       "      <td>87105.0</td>\n",
       "      <td>175232</td>\n",
       "      <td>5821.0</td>\n",
       "      <td>33878.0</td>\n",
       "      <td>3.18</td>\n",
       "      <td>CA</td>\n",
       "      <td>Black or African-American</td>\n",
       "      <td>24437</td>\n",
       "    </tr>\n",
       "    <tr>\n",
       "      <th>4</th>\n",
       "      <td>Newark</td>\n",
       "      <td>New Jersey</td>\n",
       "      <td>34.6</td>\n",
       "      <td>138040.0</td>\n",
       "      <td>143873.0</td>\n",
       "      <td>281913</td>\n",
       "      <td>5829.0</td>\n",
       "      <td>86253.0</td>\n",
       "      <td>2.73</td>\n",
       "      <td>NJ</td>\n",
       "      <td>White</td>\n",
       "      <td>76402</td>\n",
       "    </tr>\n",
       "  </tbody>\n",
       "</table>\n",
       "</div>"
      ],
      "text/plain": [
       "               city          state  median_age  male_population  \\\n",
       "0     Silver Spring       Maryland        33.8          40601.0   \n",
       "1            Quincy  Massachusetts        41.0          44129.0   \n",
       "2            Hoover        Alabama        38.5          38040.0   \n",
       "3  Rancho Cucamonga     California        34.5          88127.0   \n",
       "4            Newark     New Jersey        34.6         138040.0   \n",
       "\n",
       "   female_population  total_population  number_of_veterans  foreign-born  \\\n",
       "0            41862.0             82463              1562.0       30908.0   \n",
       "1            49500.0             93629              4147.0       32935.0   \n",
       "2            46799.0             84839              4819.0        8229.0   \n",
       "3            87105.0            175232              5821.0       33878.0   \n",
       "4           143873.0            281913              5829.0       86253.0   \n",
       "\n",
       "   average_houshold_size state_code                       race  count  \n",
       "0                   2.60         MD         Hispanic or Latino  25924  \n",
       "1                   2.39         MA                      White  58723  \n",
       "2                   2.58         AL                      Asian   4759  \n",
       "3                   3.18         CA  Black or African-American  24437  \n",
       "4                   2.73         NJ                      White  76402  "
      ]
     },
     "execution_count": 20,
     "metadata": {},
     "output_type": "execute_result"
    }
   ],
   "source": [
    "demog_df = pd.read_csv('us-cities-demographics.csv', delimiter=';')\n",
    "demog_df.columns = ['city', 'state', 'median_age', 'male_population', 'female_population', 'total_population', 'number_of_veterans', 'foreign-born', 'average_houshold_size', 'state_code', 'race', 'count']\n",
    "demog_df.head()"
   ]
  },
  {
   "cell_type": "markdown",
   "metadata": {},
   "source": [
    "#### Picking columns for the immigration fact table"
   ]
  },
  {
   "cell_type": "code",
   "execution_count": 21,
   "metadata": {
    "scrolled": true
   },
   "outputs": [
    {
     "data": {
      "text/html": [
       "<div>\n",
       "<style scoped>\n",
       "    .dataframe tbody tr th:only-of-type {\n",
       "        vertical-align: middle;\n",
       "    }\n",
       "\n",
       "    .dataframe tbody tr th {\n",
       "        vertical-align: top;\n",
       "    }\n",
       "\n",
       "    .dataframe thead th {\n",
       "        text-align: right;\n",
       "    }\n",
       "</style>\n",
       "<table border=\"1\" class=\"dataframe\">\n",
       "  <thead>\n",
       "    <tr style=\"text-align: right;\">\n",
       "      <th></th>\n",
       "      <th>citizen_id</th>\n",
       "      <th>year</th>\n",
       "      <th>month</th>\n",
       "      <th>airport_code</th>\n",
       "      <th>state_id</th>\n",
       "      <th>arrival_date</th>\n",
       "      <th>departure_date</th>\n",
       "      <th>travel_mode_id</th>\n",
       "      <th>visa_category_id</th>\n",
       "      <th>visa_type</th>\n",
       "      <th>citizen_country_id</th>\n",
       "      <th>residence_country_id</th>\n",
       "      <th>birth_year</th>\n",
       "      <th>gender</th>\n",
       "      <th>ins_num</th>\n",
       "      <th>airline</th>\n",
       "      <th>admin_num</th>\n",
       "      <th>flight_number</th>\n",
       "    </tr>\n",
       "  </thead>\n",
       "  <tbody>\n",
       "    <tr>\n",
       "      <th>0</th>\n",
       "      <td>4084316.0</td>\n",
       "      <td>2016.0</td>\n",
       "      <td>4.0</td>\n",
       "      <td>HHW</td>\n",
       "      <td>HI</td>\n",
       "      <td>20566.0</td>\n",
       "      <td>20573.0</td>\n",
       "      <td>1.0</td>\n",
       "      <td>2.0</td>\n",
       "      <td>WT</td>\n",
       "      <td>209.0</td>\n",
       "      <td>209.0</td>\n",
       "      <td>1955.0</td>\n",
       "      <td>F</td>\n",
       "      <td>NaN</td>\n",
       "      <td>JL</td>\n",
       "      <td>5.658267e+10</td>\n",
       "      <td>00782</td>\n",
       "    </tr>\n",
       "    <tr>\n",
       "      <th>1</th>\n",
       "      <td>4422636.0</td>\n",
       "      <td>2016.0</td>\n",
       "      <td>4.0</td>\n",
       "      <td>MCA</td>\n",
       "      <td>TX</td>\n",
       "      <td>20567.0</td>\n",
       "      <td>20568.0</td>\n",
       "      <td>1.0</td>\n",
       "      <td>2.0</td>\n",
       "      <td>B2</td>\n",
       "      <td>582.0</td>\n",
       "      <td>582.0</td>\n",
       "      <td>1990.0</td>\n",
       "      <td>M</td>\n",
       "      <td>NaN</td>\n",
       "      <td>*GA</td>\n",
       "      <td>9.436200e+10</td>\n",
       "      <td>XBLNG</td>\n",
       "    </tr>\n",
       "    <tr>\n",
       "      <th>2</th>\n",
       "      <td>1195600.0</td>\n",
       "      <td>2016.0</td>\n",
       "      <td>4.0</td>\n",
       "      <td>OGG</td>\n",
       "      <td>FL</td>\n",
       "      <td>20551.0</td>\n",
       "      <td>20571.0</td>\n",
       "      <td>1.0</td>\n",
       "      <td>2.0</td>\n",
       "      <td>WT</td>\n",
       "      <td>148.0</td>\n",
       "      <td>112.0</td>\n",
       "      <td>1940.0</td>\n",
       "      <td>M</td>\n",
       "      <td>NaN</td>\n",
       "      <td>LH</td>\n",
       "      <td>5.578047e+10</td>\n",
       "      <td>00464</td>\n",
       "    </tr>\n",
       "    <tr>\n",
       "      <th>3</th>\n",
       "      <td>5291768.0</td>\n",
       "      <td>2016.0</td>\n",
       "      <td>4.0</td>\n",
       "      <td>LOS</td>\n",
       "      <td>CA</td>\n",
       "      <td>20572.0</td>\n",
       "      <td>20581.0</td>\n",
       "      <td>1.0</td>\n",
       "      <td>2.0</td>\n",
       "      <td>B2</td>\n",
       "      <td>297.0</td>\n",
       "      <td>297.0</td>\n",
       "      <td>1991.0</td>\n",
       "      <td>M</td>\n",
       "      <td>NaN</td>\n",
       "      <td>QR</td>\n",
       "      <td>9.478970e+10</td>\n",
       "      <td>00739</td>\n",
       "    </tr>\n",
       "    <tr>\n",
       "      <th>4</th>\n",
       "      <td>985523.0</td>\n",
       "      <td>2016.0</td>\n",
       "      <td>4.0</td>\n",
       "      <td>CHM</td>\n",
       "      <td>NY</td>\n",
       "      <td>20550.0</td>\n",
       "      <td>20553.0</td>\n",
       "      <td>3.0</td>\n",
       "      <td>2.0</td>\n",
       "      <td>WT</td>\n",
       "      <td>111.0</td>\n",
       "      <td>111.0</td>\n",
       "      <td>1997.0</td>\n",
       "      <td>F</td>\n",
       "      <td>NaN</td>\n",
       "      <td>NaN</td>\n",
       "      <td>4.232257e+10</td>\n",
       "      <td>LAND</td>\n",
       "    </tr>\n",
       "  </tbody>\n",
       "</table>\n",
       "</div>"
      ],
      "text/plain": [
       "   citizen_id    year  month airport_code state_id  arrival_date  \\\n",
       "0   4084316.0  2016.0    4.0          HHW       HI       20566.0   \n",
       "1   4422636.0  2016.0    4.0          MCA       TX       20567.0   \n",
       "2   1195600.0  2016.0    4.0          OGG       FL       20551.0   \n",
       "3   5291768.0  2016.0    4.0          LOS       CA       20572.0   \n",
       "4    985523.0  2016.0    4.0          CHM       NY       20550.0   \n",
       "\n",
       "   departure_date  travel_mode_id  visa_category_id visa_type  \\\n",
       "0         20573.0             1.0               2.0        WT   \n",
       "1         20568.0             1.0               2.0        B2   \n",
       "2         20571.0             1.0               2.0        WT   \n",
       "3         20581.0             1.0               2.0        B2   \n",
       "4         20553.0             3.0               2.0        WT   \n",
       "\n",
       "   citizen_country_id  residence_country_id  birth_year gender  ins_num  \\\n",
       "0               209.0                 209.0      1955.0      F      NaN   \n",
       "1               582.0                 582.0      1990.0      M      NaN   \n",
       "2               148.0                 112.0      1940.0      M      NaN   \n",
       "3               297.0                 297.0      1991.0      M      NaN   \n",
       "4               111.0                 111.0      1997.0      F      NaN   \n",
       "\n",
       "  airline     admin_num flight_number  \n",
       "0      JL  5.658267e+10         00782  \n",
       "1     *GA  9.436200e+10         XBLNG  \n",
       "2      LH  5.578047e+10         00464  \n",
       "3      QR  9.478970e+10         00739  \n",
       "4     NaN  4.232257e+10          LAND  "
      ]
     },
     "execution_count": 21,
     "metadata": {},
     "output_type": "execute_result"
    }
   ],
   "source": [
    "immigration_fact = immigration_df[['cicid', 'i94yr', 'i94mon', 'i94port', 'i94addr', 'arrdate', 'depdate', 'i94mode', 'i94visa', 'visatype', 'i94cit', 'i94res', 'biryear', 'gender', 'insnum', 'airline', 'admnum', 'fltno']]\n",
    "immigration_fact.columns = ['citizen_id', 'year', 'month', 'airport_code', 'state_id', 'arrival_date', 'departure_date', 'travel_mode_id', 'visa_category_id', 'visa_type', 'citizen_country_id', 'residence_country_id', 'birth_year', 'gender', 'ins_num', 'airline', 'admin_num', 'flight_number']\n",
    "immigration_fact.head()"
   ]
  },
  {
   "cell_type": "markdown",
   "metadata": {},
   "source": [
    "### Step 3: Define the Data Model\n",
    "#### 3.1 Conceptual Data Model\n",
    "For the purpose of this project we will model a star schema, since it's easily understandable and can be imported to a BI app such as Power BI.\n",
    "\n",
    "![](DB_diagram.png)\n",
    "\n",
    "#### 3.2 Mapping Out Data Pipelines\n",
    "Data pipeline steps:\n",
    "1. Load and clean immigration dataset\n",
    "2. Load us city demography dataset\n",
    "3. Load and transform data labels\n",
    "4. Perform 2 data quality checks\n",
    "5. Load data to S3"
   ]
  },
  {
   "cell_type": "markdown",
   "metadata": {},
   "source": [
    "### Step 4: Run Pipelines to Model the Data \n",
    "#### 4.1 Create the data model\n"
   ]
  },
  {
   "cell_type": "markdown",
   "metadata": {},
   "source": [
    "#### Read immigration data with spark"
   ]
  },
  {
   "cell_type": "code",
   "execution_count": 2,
   "metadata": {},
   "outputs": [],
   "source": [
    "config = configparser.ConfigParser()\n",
    "config.read('CONFIG.cfg')\n",
    "\n",
    "os.environ['AWS_ACCESS_KEY_ID']=config['AWS']['AWS_ACCESS_KEY_ID']\n",
    "os.environ['AWS_SECRET_ACCESS_KEY']=config['AWS']['AWS_SECRET_ACCESS_KEY']"
   ]
  },
  {
   "cell_type": "code",
   "execution_count": 3,
   "metadata": {},
   "outputs": [],
   "source": [
    "from pyspark.sql import SparkSession\n",
    "\n",
    "spark = SparkSession.builder.\\\n",
    "config(\"spark.jars.repositories\", \"https://repos.spark-packages.org/\").\\\n",
    "config(\"spark.jars.packages\", \"saurfang:spark-sas7bdat:2.0.0-s_2.11\").\\\n",
    "config(\"spark.hadoop.fs.s3a.impl\",\"org.apache.hadoop.fs.s3a.S3AFileSystem\"). \\\n",
    "config(\"spark.hadoop.fs.s3a.access.key\", os.environ['AWS_ACCESS_KEY_ID']). \\\n",
    "config(\"spark.hadoop.fs.s3a.secret.key\", os.environ['AWS_SECRET_ACCESS_KEY']). \\\n",
    "enableHiveSupport().getOrCreate()\n",
    "\n",
    "df_spark = spark.read.format('com.github.saurfang.sas.spark').load('../../data/18-83510-I94-Data-2016/i94_apr16_sub.sas7bdat')\n"
   ]
  },
  {
   "cell_type": "code",
   "execution_count": 24,
   "metadata": {},
   "outputs": [],
   "source": [
    "df_spark=spark.read.parquet(\"sas_data\")"
   ]
  },
  {
   "cell_type": "code",
   "execution_count": 25,
   "metadata": {},
   "outputs": [
    {
     "data": {
      "text/plain": [
       "[Row(cicid=5748517.0, i94yr=2016.0, i94mon=4.0, i94port='LOS', i94addr='CA', arrdate=20574.0, depdate=20582.0, i94mode=1.0, i94visa=1.0, visatype='B1', i94cit=245.0, i94res=438.0, biryear=1976.0, gender='F', insnum=None, airline='QF', admnum=94953870030.0, fltno='00011')]"
      ]
     },
     "execution_count": 25,
     "metadata": {},
     "output_type": "execute_result"
    }
   ],
   "source": [
    "immigration_fact = df_spark[['cicid', 'i94yr', 'i94mon', 'i94port', 'i94addr', 'arrdate', 'depdate', 'i94mode', 'i94visa', 'visatype', 'i94cit', 'i94res', 'biryear', 'gender', 'insnum', 'airline', 'admnum', 'fltno']]\n",
    "immigration_fact.head(1)"
   ]
  },
  {
   "cell_type": "markdown",
   "metadata": {},
   "source": [
    "#### Change SAS date format to datetime"
   ]
  },
  {
   "cell_type": "code",
   "execution_count": 26,
   "metadata": {},
   "outputs": [],
   "source": [
    "format_SAS_to_date = udf(lambda x: (datetime(1960, 1, 1).date() + timedelta(x)).isoformat() if x else None)"
   ]
  },
  {
   "cell_type": "code",
   "execution_count": 27,
   "metadata": {
    "scrolled": false
   },
   "outputs": [
    {
     "data": {
      "text/plain": [
       "Row(cicid=5748517.0, i94yr=2016.0, i94mon=4.0, i94port='LOS', i94addr='CA', arrdate=datetime.date(2016, 4, 30), depdate=datetime.date(2016, 5, 8), i94mode=1.0, i94visa=1.0, visatype='B1', i94cit=245.0, i94res=438.0, biryear=1976.0, gender='F', insnum=None, airline='QF', admnum=94953870030.0, fltno='00011')"
      ]
     },
     "execution_count": 27,
     "metadata": {},
     "output_type": "execute_result"
    }
   ],
   "source": [
    "immigration_fact = immigration_fact\\\n",
    "    .withColumn(\"arrdate\", format_SAS_to_date(col(\"arrdate\")).cast(DateType())) \\\n",
    "    .withColumn(\"depdate\", format_SAS_to_date(col(\"depdate\")).cast(DateType()))\n",
    "\n",
    "immigration_fact.head()"
   ]
  },
  {
   "cell_type": "markdown",
   "metadata": {},
   "source": [
    "#### Read demographics data with spark"
   ]
  },
  {
   "cell_type": "code",
   "execution_count": 4,
   "metadata": {
    "scrolled": true
   },
   "outputs": [
    {
     "data": {
      "text/plain": [
       "Row(city='CINCINNATI', median_age=32.7, male_population=143654, female_population=154883, total_population=298537, number_of_veterans=13699, foreign-born=16896, average_household_size=2.08, state_id='OH', race='White')"
      ]
     },
     "execution_count": 4,
     "metadata": {},
     "output_type": "execute_result"
    }
   ],
   "source": [
    "schema = StructType([\n",
    "    StructField('city', StringType()),\n",
    "    StructField('state', StringType()),\n",
    "    StructField('median_age', DoubleType()),\n",
    "    StructField('male_population', IntegerType()),\n",
    "    StructField('female_population', IntegerType()),\n",
    "    StructField('total_population', IntegerType()),\n",
    "    StructField('number_of_veterans', IntegerType()),\n",
    "    StructField('foreign-born', IntegerType()),\n",
    "    StructField('average_household_size', DoubleType()),\n",
    "    StructField('state_id', StringType()),\n",
    "    StructField('race', StringType())\n",
    "])\n",
    "\n",
    "demog_df = spark.read.csv('us-cities-demographics.csv', sep=';', header=True, schema=schema)\n",
    "demog_df = demog_df.dropDuplicates(['city', 'state'])\n",
    "demog_df = demog_df.drop(col('state'))\n",
    "demog_df = demog_df.withColumn('city', upper(col('city')))\n",
    "\n",
    "demog_df.head()"
   ]
  },
  {
   "cell_type": "markdown",
   "metadata": {},
   "source": [
    "#### Load and transform Labels Descriptions"
   ]
  },
  {
   "cell_type": "code",
   "execution_count": 29,
   "metadata": {},
   "outputs": [],
   "source": [
    "def load_descriptions_labels(selected_label):\n",
    "    with open(\"I94_SAS_Labels_Descriptions.SAS\") as labels_file:\n",
    "        labels_data = labels_file.read()\n",
    "        \n",
    "        selected_label_data = labels_data[labels_data.index(selected_label):]\n",
    "        selected_label_data = selected_label_data[:selected_label_data.index(';')]\n",
    "\n",
    "        lines = selected_label_data.split('\\n')\n",
    "        id_name_pairs = list()\n",
    "        for line in lines:\n",
    "            parts = line.split('=')\n",
    "            if len(parts) != 2:\n",
    "                continue\n",
    "            id = parts[0].strip().strip(\"'\")\n",
    "            value = parts[1].strip().strip(\"'\")\n",
    "            id_name_pairs.append((id, value,))\n",
    "\n",
    "        return id_name_pairs"
   ]
  },
  {
   "cell_type": "markdown",
   "metadata": {},
   "source": [
    "Process travel mode labels"
   ]
  },
  {
   "cell_type": "code",
   "execution_count": 30,
   "metadata": {},
   "outputs": [
    {
     "data": {
      "text/plain": [
       "[Row(travel_mode_id=1, travel_mode_name='Air'),\n",
       " Row(travel_mode_id=2, travel_mode_name='Sea'),\n",
       " Row(travel_mode_id=3, travel_mode_name='Land'),\n",
       " Row(travel_mode_id=9, travel_mode_name='Not reported')]"
      ]
     },
     "execution_count": 30,
     "metadata": {},
     "output_type": "execute_result"
    }
   ],
   "source": [
    "travel_mode_label_pairs = load_descriptions_labels(\"i94model\")\n",
    "\n",
    "schema = ['travel_mode_id', 'travel_mode_name']\n",
    "\n",
    "travel_mode_df = spark.createDataFrame(data=travel_mode_label_pairs, schema=schema)\n",
    "travel_mode_df = travel_mode_df.withColumn('travel_mode_id', travel_mode_df['travel_mode_id'].cast(IntegerType()))\n",
    "\n",
    "travel_mode_df.head(10)"
   ]
  },
  {
   "cell_type": "markdown",
   "metadata": {},
   "source": [
    "Process country labels"
   ]
  },
  {
   "cell_type": "code",
   "execution_count": 15,
   "metadata": {},
   "outputs": [
    {
     "data": {
      "text/plain": [
       "[Row(country_id=582, country_name='MEXICO Air Sea, and Not Reported (I-94, no land arrivals)'),\n",
       " Row(country_id=236, country_name='AFGHANISTAN'),\n",
       " Row(country_id=101, country_name='ALBANIA'),\n",
       " Row(country_id=316, country_name='ALGERIA'),\n",
       " Row(country_id=102, country_name='ANDORRA')]"
      ]
     },
     "execution_count": 15,
     "metadata": {},
     "output_type": "execute_result"
    }
   ],
   "source": [
    "country_label_pairs = load_descriptions_labels(\"i94cntyl\")\n",
    "\n",
    "schema = ['country_id', 'country_name']\n",
    "\n",
    "country_df = spark.createDataFrame(data=country_label_pairs, schema=schema)\n",
    "country_df = country_df.withColumn('country_name', regexp_replace('country_name', '^No Country.*|INVALID.*|Collapsed.*', 'NA'))\n",
    "country_df = country_df.withColumn('country_id', country_df['country_id'].cast(IntegerType()))\n",
    "\n",
    "country_df.head(5)"
   ]
  },
  {
   "cell_type": "markdown",
   "metadata": {},
   "source": [
    "Process visa category"
   ]
  },
  {
   "cell_type": "code",
   "execution_count": 16,
   "metadata": {},
   "outputs": [
    {
     "data": {
      "text/plain": [
       "[Row(visa_category_id=1, visa_category_name='Business'),\n",
       " Row(visa_category_id=2, visa_category_name='Pleasure'),\n",
       " Row(visa_category_id=3, visa_category_name='Student')]"
      ]
     },
     "execution_count": 16,
     "metadata": {},
     "output_type": "execute_result"
    }
   ],
   "source": [
    "visa_category_label_pairs = load_descriptions_labels(\"I94VISA\")\n",
    "\n",
    "schema = ['visa_category_id', 'visa_category_name']\n",
    "\n",
    "visa_category_df = spark.createDataFrame(data=visa_category_label_pairs, schema=schema)\n",
    "visa_category_df = visa_category_df.withColumn('visa_category_id', visa_category_df['visa_category_id'].cast(IntegerType()))\n",
    "\n",
    "visa_category_df.head(5)"
   ]
  },
  {
   "cell_type": "markdown",
   "metadata": {},
   "source": [
    "Process us states"
   ]
  },
  {
   "cell_type": "code",
   "execution_count": 17,
   "metadata": {},
   "outputs": [
    {
     "data": {
      "text/plain": [
       "[Row(us_state_id='AL', us_state_name='ALABAMA'),\n",
       " Row(us_state_id='AK', us_state_name='ALASKA'),\n",
       " Row(us_state_id='AZ', us_state_name='ARIZONA'),\n",
       " Row(us_state_id='AR', us_state_name='ARKANSAS'),\n",
       " Row(us_state_id='CA', us_state_name='CALIFORNIA')]"
      ]
     },
     "execution_count": 17,
     "metadata": {},
     "output_type": "execute_result"
    }
   ],
   "source": [
    "us_states_label_pairs = load_descriptions_labels(\"i94addrl\")\n",
    "\n",
    "schema = ['us_state_id', 'us_state_name']\n",
    "\n",
    "us_states_df = spark.createDataFrame(data=us_states_label_pairs, schema=schema)\n",
    "us_states_df = us_states_df.where('us_state_id != \"99\"')\n",
    "\n",
    "us_states_df.head(5)"
   ]
  },
  {
   "cell_type": "markdown",
   "metadata": {},
   "source": [
    "Process airport codes"
   ]
  },
  {
   "cell_type": "code",
   "execution_count": 18,
   "metadata": {},
   "outputs": [
    {
     "data": {
      "text/plain": [
       "Row(airport_code='ALC', city='ALCAN', us_state_id='AK')"
      ]
     },
     "execution_count": 18,
     "metadata": {},
     "output_type": "execute_result"
    }
   ],
   "source": [
    "airport_codes_label_pairs = load_descriptions_labels(\"$i94prtl\")\n",
    "\n",
    "schema = ['airport_code', 'airport_code_name']\n",
    "\n",
    "airport_codes_df = spark.createDataFrame(data=airport_codes_label_pairs, schema=schema)\n",
    "split_column = split(airport_codes_df.airport_code_name, ',')\n",
    "\n",
    "airport_codes_df = airport_codes_df \\\n",
    "    .withColumn('city', split_column.getItem(0)) \\\n",
    "    .withColumn('us_state_id', trim(split_column.getItem(1))) \\\n",
    "    .drop(col('airport_code_name'))\n",
    "\n",
    "airport_codes_df.head()"
   ]
  },
  {
   "cell_type": "markdown",
   "metadata": {},
   "source": [
    "#### 4.2 Data Quality Checks"
   ]
  },
  {
   "cell_type": "markdown",
   "metadata": {},
   "source": [
    "##### Check #1 : Check if keys are unique in dimension tables\n"
   ]
  },
  {
   "cell_type": "code",
   "execution_count": 19,
   "metadata": {},
   "outputs": [
    {
     "name": "stdout",
     "output_type": "stream",
     "text": [
      "Unique key checks passed\n"
     ]
    }
   ],
   "source": [
    "dimension_tables = {\n",
    "    'dim_travel_mode': travel_mode_df,\n",
    "    'dim_country': country_df,\n",
    "    'dim_visa_category': visa_category_df,\n",
    "    'dim_us_category': us_states_df,\n",
    "    'dim_airport_codes': airport_codes_df\n",
    "}\n",
    "\n",
    "# Check label tables\n",
    "\n",
    "for table_name, df in dimension_tables.items():\n",
    "    if df.select(df.columns[0]).distinct().count() != df.count():\n",
    "        raise ValueError(f'Data quality check not passed for {table_name}. Key is not unique')\n",
    "        \n",
    "# Check demography table\n",
    "\n",
    "if demog_df.select(['city', 'state_id']).distinct().count() != demog_df.count():\n",
    "    raise ValueError(f'Data quality check not passed for dim_city_demography. Key is not unique')\n",
    "\n",
    "print('Unique key checks passed')"
   ]
  },
  {
   "cell_type": "markdown",
   "metadata": {},
   "source": [
    "##### Check #2 : Check for empty tables"
   ]
  },
  {
   "cell_type": "code",
   "execution_count": 20,
   "metadata": {},
   "outputs": [
    {
     "name": "stdout",
     "output_type": "stream",
     "text": [
      "Empty tables check passed\n"
     ]
    }
   ],
   "source": [
    "tables = {\n",
    "    'immigration_facts': immigration_fact,\n",
    "    'dim_city_demography': demog_df,\n",
    "    'dim_travel_mode': travel_mode_df,\n",
    "    'dim_country': country_df,\n",
    "    'dim_visa_category': visa_category_df,\n",
    "    'dim_us_category': us_states_df,\n",
    "    'dim_airport_codes': airport_codes_df\n",
    "}\n",
    "\n",
    "for table_name, df in tables.items():\n",
    "    if df.count() == 0:\n",
    "        raise ValueError(f'Data quality check not passed for {table_name}. Table is empty')\n",
    "\n",
    "print('Empty tables check passed')"
   ]
  },
  {
   "cell_type": "markdown",
   "metadata": {},
   "source": [
    "#### 4.3 Data dictionary \n"
   ]
  },
  {
   "attachments": {
    "data_dictonary.png": {
     "image/png": "[encoded data removed]"
    }
   },
   "cell_type": "markdown",
   "metadata": {},
   "source": [
    "![data_dictonary.png](attachment:data_dictonary.png)"
   ]
  },
  {
   "cell_type": "markdown",
   "metadata": {},
   "source": [
    "### Step 5: Complete Project Write Up"
   ]
  },
  {
   "cell_type": "markdown",
   "metadata": {},
   "source": [
    "#### Tools and technologies\n",
    "1. Pandas for exploring data, since it's easy to use\n",
    "2. PySpark for processing large amounts of data\n",
    "3. AWS S3 for storing a data lake\n",
    "\n",
    "#### Data refreshes\n",
    "1. Immigration data - monthly refreshes\n",
    "2. City demographic data - yearly refreshes\n",
    "\n",
    "#### Future scenarios\n",
    "1. The data is increased by 100x\n",
    "\n",
    "One using spark on just one machine is not enough, the etl script could be deployed using AWS EMR.\n",
    "\n",
    "2. The data populates a dashboard that must be updated on a daily basis by 7am every day\n",
    "\n",
    "ETL process could be scheduled to run every day using Apache Airflow.\n",
    "\n",
    "3. The database needed to be accessed by 100+ people.\n",
    "\n",
    "Since AWS Redshift can handle maximum of 500 connections, this database could be moved to Redshift to handle the increased demand."
   ]
  }
 ],
 "metadata": {
  "kernelspec": {
   "display_name": "Python 3",
   "language": "python",
   "name": "python3"
  },
  "language_info": {
   "codemirror_mode": {
    "name": "ipython",
    "version": 3
   },
   "file_extension": ".py",
   "mimetype": "text/x-python",
   "name": "python",
   "nbconvert_exporter": "python",
   "pygments_lexer": "ipython3",
   "version": "3.6.3"
  }
 },
 "nbformat": 4,
 "nbformat_minor": 4
}
